{
 "cells": [
  {
   "cell_type": "markdown",
   "metadata": {},
   "source": [
    "## Zadanie 1 Sumowanie liczb pojedynczej precyzji"
   ]
  },
  {
   "cell_type": "markdown",
   "metadata": {},
   "source": [
    "##### 1.  Napisz program, który oblicza sumęNliczb pojedynczej precyzji przechowywanychw tablicy o N= 10^7 elementach. Tablica wypełniona jest tą samą wartością v zprzedziału [0.1,0.9] np.v= 0.53125."
   ]
  },
  {
   "cell_type": "code",
   "execution_count": 1,
   "metadata": {},
   "outputs": [
    {
     "name": "stdout",
     "output_type": "stream",
     "text": [
      "5030840.5\n"
     ]
    }
   ],
   "source": [
    "# importuję numpy'a aby mieć możliwość ustawienia precyzji\n",
    "import numpy as np\n",
    "# matplotlib do wykresu\n",
    "import matplotlib.pyplot as plt\n",
    "# moduł do mierzenia czasu\n",
    "import time\n",
    "\n",
    "# ustawiam aby liczby były pojedynczej precyzji\n",
    "v = np.float32(0.53125)\n",
    "\n",
    "N = (10**7)\n",
    "\n",
    "# tworzę tablicę oraz akumulator, a następnie sumuję całość\n",
    "tab = N * [v] \n",
    "\n",
    "def norm_alg(tab):\n",
    "    \n",
    "    sum1 = np.float32(0)\n",
    "    \n",
    "    for el in tab:\n",
    "        sum1 += el\n",
    "        \n",
    "    return sum1\n",
    "\n",
    "sum1 = norm_alg(tab)\n",
    "\n",
    "\n",
    "print(sum1)"
   ]
  },
  {
   "cell_type": "markdown",
   "metadata": {},
   "source": [
    "##### 2.  Wyznacz bezwzględny i względny błąd obliczeń. Dlaczego błąd względny jest tak duży?"
   ]
  },
  {
   "cell_type": "code",
   "execution_count": 2,
   "metadata": {},
   "outputs": [
    {
     "name": "stdout",
     "output_type": "stream",
     "text": [
      "5312500.0\n",
      "281659.5\n",
      "0.053018257\n"
     ]
    }
   ],
   "source": [
    "# wartość oczekiwana\n",
    "expected = np.float32(N * v)\n",
    "print(expected)\n",
    "\n",
    "# błąd bezwzględny \n",
    "abs_error = abs(sum1 - expected)\n",
    "print(abs_error)\n",
    "\n",
    "# błąd względny\n",
    "rel_error = abs((sum1 - expected)/expected)\n",
    "print(rel_error)\n",
    "\n"
   ]
  },
  {
   "cell_type": "markdown",
   "metadata": {},
   "source": [
    "###### Błąd względny jest tak duży (>5%) ponieważ błąd wynikający z dodawania liczb pojedynczej powiększa się wraz z kolejnymi operacjami dodawania liczb"
   ]
  },
  {
   "cell_type": "markdown",
   "metadata": {},
   "source": [
    "##### 3.  W jaki sposób rośnie błąd względny w trakcie sumowania? Przedstaw wykres (raportuj wartość błędu co 25000 kroków) i dokonaj jego interpretacji."
   ]
  },
  {
   "cell_type": "code",
   "execution_count": 3,
   "metadata": {},
   "outputs": [
    {
     "name": "stdout",
     "output_type": "stream",
     "text": [
      "40\n"
     ]
    },
    {
     "data": {
      "text/plain": [
       "[<matplotlib.lines.Line2D at 0x7fdaa8e7deb0>]"
      ]
     },
     "execution_count": 3,
     "metadata": {},
     "output_type": "execute_result"
    },
    {
     "data": {
      "image/png": "[encoded data removed]",
      "text/plain": [
       "<Figure size 432x288 with 1 Axes>"
      ]
     },
     "metadata": {
      "needs_background": "light"
     },
     "output_type": "display_data"
    }
   ],
   "source": [
    "step = 25000\n",
    "errors = [0] # błąd początkowo wynosi 0 \n",
    "\n",
    "i = 0\n",
    "sum1 = np.float32(0)\n",
    "\n",
    "last_accurate = 0\n",
    "\n",
    "for el in tab:\n",
    "    sum1 += el\n",
    "    \n",
    "    i += 1\n",
    "    if i == step:   # warunek sprawdzający czy należy pobrać statystykę\n",
    "        if(errors[-1] == 0):\n",
    "            last_accurate = len(errors)\n",
    "        tmp_expected = np.float32(len(errors) * step * v)  # obliczanie tymczasowej wartości oczekiwanej\n",
    "        errors.append(abs((sum1 - tmp_expected)/tmp_expected))\n",
    "        i = 0\n",
    " \n",
    "print(last_accurate)\n",
    "\n",
    "plt.plot(errors)\n"
   ]
  },
  {
   "cell_type": "markdown",
   "metadata": {},
   "source": [
    "###### Z analizy wykresu wynika, że błąd pojawia się po 40 pobraniu statystystyki, a więc do 10^6 operacji dodawania błąd nie wysepuje (wynik jest dokładny) (pojawia się w okolicach 10^6 operacji). Następnie błąd względny rośnie z malejącą prędkością przyrostu aż do osiągnięcia maximum ~5%. Błąd ten występuje ponieważ dodajemy (od pewnego momentu) dwie odległe od siebie liczby, a jako że komputer (precyzja 32-bit) nie jest w stanie zapamiętać całej liczby z częscią po przecinku,  ucina on ostatnie cyfry po przecinku, stąd błąd. Przyrost błędu względnego maleje z kolejnymi iteracjami, ponieważ błąd pojawiający się na kolejnych miejscach dziesiętnych rośnie wolniej od sumy. "
   ]
  },
  {
   "cell_type": "markdown",
   "metadata": {},
   "source": [
    "### 4.  Zaimplementuj rekurencyjny algorytm sumowania, działający jak na rysunku poniżej."
   ]
  },
  {
   "cell_type": "code",
   "execution_count": 4,
   "metadata": {},
   "outputs": [
    {
     "name": "stdout",
     "output_type": "stream",
     "text": [
      "5312500.0\n"
     ]
    }
   ],
   "source": [
    "def rec_alg(tab):\n",
    "    \n",
    "    tab_len = len(tab) # aktualna ilość elementów tablicy\n",
    "    \n",
    "    if tab_len == 0:  # jeśli dostanie pustą tablicę\n",
    "        return np.float32(0)\n",
    "    \n",
    "    elif tab_len == 1: # jeśli dostanie jednoelementową tablicę\n",
    "        return tab[0]\n",
    "    \n",
    "    else:\n",
    "        half_len = tab_len // 2   # jeśli elementów będzie więcej\n",
    "        return rec_alg(tab[0:half_len]) + rec_alg(tab[half_len:tab_len])\n",
    "    \n",
    "sum2 = rec_alg(tab)\n",
    "print(sum2)"
   ]
  },
  {
   "cell_type": "markdown",
   "metadata": {},
   "source": [
    "### 5.  Wyznacz bezwzględny i względny błąd obliczeń. Dlaczego błąd względny znacznie zmalał?"
   ]
  },
  {
   "cell_type": "code",
   "execution_count": 5,
   "metadata": {},
   "outputs": [
    {
     "name": "stdout",
     "output_type": "stream",
     "text": [
      "0.0\n",
      "0.0\n"
     ]
    }
   ],
   "source": [
    "# błąd bezwzględny \n",
    "abs_error2 = abs(sum2 - expected)\n",
    "print(abs_error2)\n",
    "\n",
    "# błąd względny\n",
    "rel_error2 = abs((sum2 - expected)/expected)\n",
    "print(rel_error2)"
   ]
  },
  {
   "cell_type": "markdown",
   "metadata": {},
   "source": [
    "###### Błąd względny zmalał (a właściwie znikł), ponieważ w rekurencyjnym algorytmie dodajemy liczby zbliżone wielkością do siebie i nie występuje problem opisany w podpunkcie 5."
   ]
  },
  {
   "cell_type": "markdown",
   "metadata": {},
   "source": [
    "### 6.  Porównaj czas działania obu algorytmów dla tych samych danych wejściowych."
   ]
  },
  {
   "cell_type": "code",
   "execution_count": 6,
   "metadata": {},
   "outputs": [
    {
     "name": "stdout",
     "output_type": "stream",
     "text": [
      "0.8146655559539795\n"
     ]
    }
   ],
   "source": [
    "# pomiar czasu pierwszego algorytmu\n",
    "start1 = time.time()\n",
    "x1 = norm_alg(tab)\n",
    "end1 = time.time()\n",
    "print(end1 - start1)"
   ]
  },
  {
   "cell_type": "code",
   "execution_count": 7,
   "metadata": {},
   "outputs": [
    {
     "name": "stdout",
     "output_type": "stream",
     "text": [
      "6.294005870819092\n"
     ]
    }
   ],
   "source": [
    "# pomiar czasu drugiego algorytmu\n",
    "start2 = time.time()\n",
    "x2 = rec_alg(tab)\n",
    "end2 = time.time()\n",
    "print(end2 - start2)"
   ]
  },
  {
   "cell_type": "markdown",
   "metadata": {},
   "source": [
    "###### Rekurencyjny algorytm sumowania jest znacznie wolny od standardowego, natomiast niweluje błąd występujący przy dodawaniu odległych od siebie liczb."
   ]
  },
  {
   "cell_type": "markdown",
   "metadata": {},
   "source": [
    "### 7.  Przedstaw przykładowe dane wejściowe, dla których algorytm sumowania rekuren-cyjnego zwraca niezerowy błąd."
   ]
  },
  {
   "cell_type": "code",
   "execution_count": 8,
   "metadata": {},
   "outputs": [
    {
     "name": "stdout",
     "output_type": "stream",
     "text": [
      "335.00006\n",
      "335.00003\n"
     ]
    }
   ],
   "source": [
    "# N = 67,  v = 5.0000005\n",
    "\n",
    "x = np.float32(5.0000005)\n",
    "arr = [x] * 67\n",
    "\n",
    "sum3 = rec_alg(arr)\n",
    "\n",
    "expected3 = np.float32(67) * x\n",
    "\n",
    "print(sum3)\n",
    "print(expected3)"
   ]
  },
  {
   "cell_type": "code",
   "execution_count": 9,
   "metadata": {},
   "outputs": [
    {
     "name": "stdout",
     "output_type": "stream",
     "text": [
      "3.0517578e-05\n",
      "9.109724e-08\n"
     ]
    }
   ],
   "source": [
    "# błąd bezwzględny \n",
    "abs_error3 = abs(sum3 - expected3)\n",
    "print(abs_error3)\n",
    "\n",
    "# błąd względny\n",
    "rel_error3 = abs((sum3 - expected3)/expected3)\n",
    "print(rel_error3)"
   ]
  },
  {
   "cell_type": "markdown",
   "metadata": {},
   "source": [
    "## Zadanie 2 Algorytm Kahana"
   ]
  },
  {
   "cell_type": "code",
   "execution_count": 10,
   "metadata": {},
   "outputs": [],
   "source": [
    "def kahan_alg(tab):\n",
    "    \n",
    "    sum4 = np.float32(0)\n",
    "    err = np.float32(0)\n",
    "    \n",
    "    for el in tab:\n",
    "       \n",
    "        y = el - err\n",
    "        temp = sum4 + y\n",
    "        err = (temp - sum4) - y\n",
    "        sum4 = temp\n",
    "    \n",
    "    return sum4"
   ]
  },
  {
   "cell_type": "markdown",
   "metadata": {},
   "source": [
    "### 1.  Wyznacz bezwzględny i względny błąd obliczeń dla tych samych danych wejściowych jak w przypadku testów z Zadania 1."
   ]
  },
  {
   "cell_type": "code",
   "execution_count": 11,
   "metadata": {},
   "outputs": [],
   "source": [
    "sum4 = kahan_alg(tab)\n",
    "expected4 = expected\n",
    "sum5 = kahan_alg(arr)\n",
    "expected5 = expected3\n"
   ]
  },
  {
   "cell_type": "code",
   "execution_count": 12,
   "metadata": {},
   "outputs": [
    {
     "name": "stdout",
     "output_type": "stream",
     "text": [
      "0.0\n",
      "0.0\n"
     ]
    }
   ],
   "source": [
    "# błąd bezwzględny \n",
    "abs_error4 = abs(sum4 - expected4)\n",
    "print(abs_error4)\n",
    "\n",
    "# błąd względny\n",
    "rel_error4 = abs((sum4 - expected4)/expected4)\n",
    "print(rel_error4)"
   ]
  },
  {
   "cell_type": "code",
   "execution_count": 13,
   "metadata": {},
   "outputs": [
    {
     "name": "stdout",
     "output_type": "stream",
     "text": [
      "0.0\n",
      "0.0\n"
     ]
    }
   ],
   "source": [
    "# błąd bezwzględny \n",
    "abs_error5 = abs(sum5 - expected5)\n",
    "print(abs_error5)\n",
    "\n",
    "# błąd względny\n",
    "rel_error5 = abs((sum5 - expected5)/expected5)\n",
    "print(rel_error5)"
   ]
  },
  {
   "cell_type": "markdown",
   "metadata": {},
   "source": [
    "### 2.  Wyjaśnij dlaczego w algorytm Kahana ma znacznie lepsze własności numeryczne? Do czego służy zmienna err?"
   ]
  },
  {
   "cell_type": "markdown",
   "metadata": {},
   "source": [
    "###### Algorytm Kahana ma dużo lepsze właściwości numeryczne, ponieważ z każdą iteracją liczy błąd dodawania, a następnie koryguje go w kolejnej iteracji. Zmienna err złuży do wyliczania błędu jaki powstał przy dodawaniu poprzez odjęcie od sumy (tymczasowej temp) dodawanych wartości. "
   ]
  },
  {
   "cell_type": "markdown",
   "metadata": {},
   "source": [
    "### 3.  Porównaj czasy działania algorytmu Kahana oraz algorytmu sumowania rekurencyjnego dla tych samych danych wejściowych."
   ]
  },
  {
   "cell_type": "code",
   "execution_count": 14,
   "metadata": {},
   "outputs": [
    {
     "name": "stdout",
     "output_type": "stream",
     "text": [
      "5.954902172088623\n"
     ]
    }
   ],
   "source": [
    "# pomiar czasu dla algorytmu rekurencyjnego\n",
    "start3 = time.time()\n",
    "x3 = rec_alg(tab)\n",
    "end3 = time.time()\n",
    "print(end3 - start3)"
   ]
  },
  {
   "cell_type": "code",
   "execution_count": 15,
   "metadata": {},
   "outputs": [
    {
     "name": "stdout",
     "output_type": "stream",
     "text": [
      "2.9622628688812256\n"
     ]
    }
   ],
   "source": [
    "# pomiar czasu dla algorytmu Kahana\n",
    "start4 = time.time()\n",
    "x4 = kahan_alg(tab)\n",
    "end4 = time.time()\n",
    "print(end4 - start4)"
   ]
  },
  {
   "cell_type": "markdown",
   "metadata": {},
   "source": [
    "###### Z powyższych pomiarów wynika, że algorytm Kahana jest niemalże 2 razy szybszy od algorytmu rekurencyjnego, przy zachowaniu lepszych właściwości numerycznych"
   ]
  },
  {
   "cell_type": "markdown",
   "metadata": {},
   "source": [
    "## Zadanie 3 Sumy częściowe"
   ]
  },
  {
   "cell_type": "code",
   "execution_count": 16,
   "metadata": {},
   "outputs": [],
   "source": [
    "def dzeta_riemana(s, n):\n",
    "    \n",
    "    sum6 = np.float32(0)\n",
    "    s = np.float32(s)\n",
    "    one = np.float32(1)\n",
    "    \n",
    "    for k in range(1, n + 1):\n",
    "        \n",
    "        k = np.float32(k)\n",
    "        sum6 += one / (k ** s)\n",
    "    \n",
    "    return sum6    "
   ]
  },
  {
   "cell_type": "code",
   "execution_count": 17,
   "metadata": {},
   "outputs": [],
   "source": [
    "def eta_dirichleta(s, n):\n",
    "    \n",
    "    sum7 = np.float32(0)\n",
    "    s = np.float32(s)\n",
    "    one = np.float32(1)\n",
    "    m_one = np.float32(-1)\n",
    "    \n",
    "    for k in range(1, n + 1):\n",
    "        \n",
    "        k = np.float32(k)\n",
    "        sum7 += (m_one ** (k - one) ) * (one / (k ** s))\n",
    "    \n",
    "    return sum7  "
   ]
  },
  {
   "cell_type": "code",
   "execution_count": 18,
   "metadata": {},
   "outputs": [
    {
     "name": "stdout",
     "output_type": "stream",
     "text": [
      "[[0, 0, 0, 0, 0], [0, 2222, 0, 0, 0], [0, 0, 0, 0, 0], [0, 0, 0, 0, 0], [0, 0, 0, 0, 0]]\n"
     ]
    }
   ],
   "source": [
    "# parametry\n",
    "s5 = [2, 3.6667, 5, 7.2, 10]\n",
    "n5 = [50, 100, 200, 500, 1000]\n",
    "\n",
    "# przygotowanie miejsca na wyniki\n",
    "res = [0,0,0,0,0]\n",
    "results1 = []\n",
    "\n",
    "for i in range(5):\n",
    "    results1.append(res.copy())\n",
    "\n",
    "results2 = results1.copy()\n",
    "results3 = results1.copy()\n",
    "results1_rev = results1.copy() # wyniki funkcji liczące w odwrotnej kolejności\n",
    "results2_rev = results1.copy()\n",
    "results1_norm = results1.copy() # norm == funkcja dla liczb podwójnej precyzji\n",
    "results2_norm = results1.copy()\n",
    "results1_norm_rev = results1.copy()\n",
    "results2_norm_rev = results1.copy()\n",
    "\n",
    "results1[1][1] = 2222\n",
    "\n",
    "print(results2_norm_rev)\n"
   ]
  },
  {
   "cell_type": "code",
   "execution_count": 19,
   "metadata": {},
   "outputs": [
    {
     "name": "stdout",
     "output_type": "stream",
     "text": [
      "[1.6251329, 1.634984, 1.6399467, 1.642936, 1.6439348]\n",
      "[1.1093994, 1.1094086, 1.1094086, 1.1094086, 1.1094086]\n",
      "[1.0369275, 1.0369275, 1.0369275, 1.0369275, 1.0369275]\n",
      "[1.0072277, 1.0072277, 1.0072277, 1.0072277, 1.0072277]\n",
      "[1.0009946, 1.0009946, 1.0009946, 1.0009946, 1.0009946]\n"
     ]
    }
   ],
   "source": [
    "# funkcja do wypisywania linia po linii\n",
    "def print_res(results):\n",
    "    for r in results:\n",
    "        print(r)\n",
    "\n",
    "# dzeta kolejność roznąca        \n",
    "for i,s in enumerate(s5):\n",
    "    for j,n in enumerate(n5):\n",
    "        results1[i][j] = dzeta_riemana(s,n)    \n",
    "\n",
    "print_res(results1)        \n",
    "        "
   ]
  },
  {
   "cell_type": "code",
   "execution_count": 20,
   "metadata": {},
   "outputs": [
    {
     "name": "stdout",
     "output_type": "stream",
     "text": [
      "[0.822271, 0.8224175, 0.8224547, 0.82246536, 0.82246685]\n",
      "[0.9346931, 0.9346933, 0.9346933, 0.9346933, 0.9346933]\n",
      "[0.9721198, 0.9721198, 0.9721198, 0.9721198, 0.9721198]\n",
      "[0.99352705, 0.99352705, 0.99352705, 0.99352705, 0.99352705]\n",
      "[0.99903953, 0.99903953, 0.99903953, 0.99903953, 0.99903953]\n"
     ]
    }
   ],
   "source": [
    "# eta kolejność roznąca\n",
    "for i,s in enumerate(s5):\n",
    "    for j,n in enumerate(n5):\n",
    "        results2[i][j] = eta_dirichleta(s,n)  \n",
    "        \n",
    "print_res(results2)        "
   ]
  },
  {
   "cell_type": "code",
   "execution_count": 21,
   "metadata": {},
   "outputs": [],
   "source": [
    "def dzeta_riemana_rev(s, n): # funkcja dzeta z odwrotną kolejnością\n",
    "    \n",
    "    sum8 = np.float32(0)\n",
    "    s = np.float32(s)\n",
    "    one = np.float32(1)\n",
    "    \n",
    "    for k in range(n, 0, -1):\n",
    "        \n",
    "        k = np.float32(k)\n",
    "        sum8 += one / (k ** s)\n",
    "\n",
    "    return sum8\n",
    "\n",
    "\n",
    "def eta_dirichleta_rev(s, n): # funkcja eta z odwrotną kolejnością\n",
    "    \n",
    "    sum9 = np.float32(0)\n",
    "    s = np.float32(s)\n",
    "    one = np.float32(1)\n",
    "    m_one = np.float32(-1)\n",
    "    \n",
    "    for k in range(n, 0, -1):\n",
    "        \n",
    "        k += np.float32(k)\n",
    "        sum9 = (m_one ** (k - one) ) * (one / (k ** s))\n",
    "        \n",
    "    \n",
    "    return sum9 "
   ]
  },
  {
   "cell_type": "code",
   "execution_count": 22,
   "metadata": {},
   "outputs": [
    {
     "name": "stdout",
     "output_type": "stream",
     "text": [
      "[1.6251327, 1.6349839, 1.6399465, 1.642936, 1.6439345]\n",
      "[1.1093998, 1.1094089, 1.1094103, 1.1094105, 1.1094105]\n",
      "[1.0369277, 1.0369277, 1.0369277, 1.0369277, 1.0369277]\n",
      "[1.0072277, 1.0072277, 1.0072277, 1.0072277, 1.0072277]\n",
      "[1.0009946, 1.0009946, 1.0009946, 1.0009946, 1.0009946]\n"
     ]
    }
   ],
   "source": [
    "# dzeta odwrotna kolejność        \n",
    "for i,s in enumerate(s5):\n",
    "    for j,n in enumerate(n5):\n",
    "        results1_rev[i][j] = dzeta_riemana_rev(s,n)    \n",
    "\n",
    "print_res(results1_rev) "
   ]
  },
  {
   "cell_type": "code",
   "execution_count": 23,
   "metadata": {},
   "outputs": [
    {
     "name": "stdout",
     "output_type": "stream",
     "text": [
      "[-0.25, -0.25, -0.25, -0.25, -0.25]\n",
      "[-0.0787432524467266, -0.0787432524467266, -0.0787432524467266, -0.0787432524467266, -0.0787432524467266]\n",
      "[-0.03125, -0.03125, -0.03125, -0.03125, -0.03125]\n",
      "[-0.0068011771749164045, -0.0068011771749164045, -0.0068011771749164045, -0.0068011771749164045, -0.0068011771749164045]\n",
      "[-0.0009765625, -0.0009765625, -0.0009765625, -0.0009765625, -0.0009765625]\n"
     ]
    }
   ],
   "source": [
    "# eta odwrotna kolejność\n",
    "for i,s in enumerate(s5):\n",
    "    for j,n in enumerate(n5):\n",
    "        results2_rev[i][j] = eta_dirichleta_rev(s,n)  \n",
    "        \n",
    "print_res(results2_rev)  "
   ]
  },
  {
   "cell_type": "code",
   "execution_count": 24,
   "metadata": {},
   "outputs": [],
   "source": [
    "def norm_dzeta(s, n): # funkcja dzeta dla liczb podwójnej precyzji (kolejność rosnąca)\n",
    "    \n",
    "    sum10 = 0\n",
    "    \n",
    "    for k in range(1, n + 1):\n",
    "        sum10 += 1 / (k ** s)\n",
    "    \n",
    "    return sum10"
   ]
  },
  {
   "cell_type": "code",
   "execution_count": 25,
   "metadata": {},
   "outputs": [],
   "source": [
    "def norm_eta(s, n): # funkcja eta dla liczb podwójnej precyzji (kolejność malejąca)\n",
    "    \n",
    "    sum11 = 0\n",
    "    \n",
    "    for k in range(1, n + 1):\n",
    "        sum11 += ((-1) ** (k - 1) ) * (1 / (k ** s))\n",
    "    \n",
    "    return sum11  "
   ]
  },
  {
   "cell_type": "code",
   "execution_count": 26,
   "metadata": {},
   "outputs": [
    {
     "name": "stdout",
     "output_type": "stream",
     "text": [
      "[1.625132733621529, 1.6349839001848923, 1.6399465460149971, 1.642936065514894, 1.6439345666815615]\n",
      "[1.1093997551541945, 1.1094087973421474, 1.1094102423332313, 1.1094104908440712, 1.1094105108423578]\n",
      "[1.036927716716712, 1.0369277526929555, 1.0369277549886775, 1.0369277551393863, 1.0369277551431222]\n",
      "[1.0072276664762816, 1.007227666480654, 1.0072276664807145, 1.0072276664807145, 1.0072276664807145]\n",
      "[1.0009945751278182, 1.0009945751278182, 1.0009945751278182, 1.0009945751278182, 1.0009945751278182]\n"
     ]
    }
   ],
   "source": [
    "# dzeta normalna kolejność, liczby podwójnej precyzji    \n",
    "for i,s in enumerate(s5):\n",
    "    for j,n in enumerate(n5):\n",
    "        results1_norm[i][j] = norm_dzeta(s,n)    \n",
    "\n",
    "print_res(results1_norm) "
   ]
  },
  {
   "cell_type": "code",
   "execution_count": 27,
   "metadata": {},
   "outputs": [
    {
     "name": "stdout",
     "output_type": "stream",
     "text": [
      "[0.8222710318260295, 0.8224175333741286, 0.822454595922551, 0.8224650374240963, 0.8224665339241114]\n",
      "[0.9346930600307106, 0.9346933211400662, 0.9346933421086845, 0.9346933438558745, 0.9346933439141353]\n",
      "[0.9721197689267979, 0.9721197703981592, 0.972119770445367, 0.9721197704468947, 0.9721197704469091]\n",
      "[0.9935270006613486, 0.9935270006616185, 0.9935270006616201, 0.9935270006616201, 0.9935270006616201]\n",
      "[0.9990395075982718, 0.9990395075982718, 0.9990395075982718, 0.9990395075982718, 0.9990395075982718]\n"
     ]
    }
   ],
   "source": [
    "# eta normalna kolejność, liczby podwójnej precyzji      \n",
    "for i,s in enumerate(s5):\n",
    "    for j,n in enumerate(n5):\n",
    "        results2_norm[i][j] = norm_eta(s,n)    \n",
    "\n",
    "print_res(results2_norm) "
   ]
  },
  {
   "cell_type": "code",
   "execution_count": 28,
   "metadata": {},
   "outputs": [],
   "source": [
    "def norm_dzeta_rev(s, n):  # funkcja dzeta dla liczb podwójnej precyzji (odwrotna kolejność)\n",
    "    \n",
    "    sum12 = 0\n",
    "    \n",
    "    for k in range(n, 0, -1):\n",
    "        sum12 += 1 / (k ** s)\n",
    "    \n",
    "    return sum12"
   ]
  },
  {
   "cell_type": "code",
   "execution_count": 29,
   "metadata": {},
   "outputs": [],
   "source": [
    "def norm_eta_rev(s, n):  # funkcja eta dla liczb podwójnej precyzji (odwrotna kolejność)\n",
    "    \n",
    "    sum13 = 0\n",
    "    \n",
    "    for k in range(n, 0, -1):\n",
    "        sum13 += ( (-1) ** (k - 1) ) * (1 / (k ** s))\n",
    "    \n",
    "    return sum13  "
   ]
  },
  {
   "cell_type": "code",
   "execution_count": 30,
   "metadata": {},
   "outputs": [
    {
     "name": "stdout",
     "output_type": "stream",
     "text": [
      "[1.6251327336215293, 1.634983900184893, 1.6399465460149973, 1.6429360655148941, 1.6439345666815597]\n",
      "[1.1093997551541943, 1.1094087973421476, 1.109410242333231, 1.1094104908440725, 1.1094105108423593]\n",
      "[1.0369277167167108, 1.0369277526929532, 1.036927754988676, 1.0369277551393858, 1.0369277551431204]\n",
      "[1.0072276664762823, 1.007227666480655, 1.0072276664807163, 1.0072276664807172, 1.0072276664807172]\n",
      "[1.000994575127818, 1.000994575127818, 1.000994575127818, 1.000994575127818, 1.000994575127818]\n"
     ]
    }
   ],
   "source": [
    "# dzeta odwrotna kolejność, liczby podwójnej precyzji        \n",
    "for i,s in enumerate(s5):\n",
    "    for j,n in enumerate(n5):\n",
    "        results1_norm_rev[i][j] = norm_dzeta_rev(s,n)    \n",
    "\n",
    "print_res(results1_norm_rev) "
   ]
  },
  {
   "cell_type": "code",
   "execution_count": 31,
   "metadata": {},
   "outputs": [
    {
     "name": "stdout",
     "output_type": "stream",
     "text": [
      "[0.8222710318260289, 0.8224175333741282, 0.8224545959225509, 0.8224650374240972, 0.8224665339241127]\n",
      "[0.934693060030711, 0.934693321140067, 0.9346933421086852, 0.934693343855875, 0.9346933439141354]\n",
      "[0.9721197689267976, 0.9721197703981589, 0.9721197704453663, 0.9721197704468933, 0.9721197704469088]\n",
      "[0.9935270006613481, 0.9935270006616179, 0.9935270006616198, 0.9935270006616198, 0.9935270006616198]\n",
      "[0.9990395075982715, 0.9990395075982715, 0.9990395075982715, 0.9990395075982715, 0.9990395075982715]\n"
     ]
    }
   ],
   "source": [
    "# eta odwrotna kolejność liczby podwójnej precyzji      \n",
    "for i,s in enumerate(s5):\n",
    "    for j,n in enumerate(n5):\n",
    "        results2_norm_rev[i][j] = norm_eta_rev(s,n)    \n",
    "\n",
    "print_res(results2_norm_rev)"
   ]
  },
  {
   "cell_type": "markdown",
   "metadata": {},
   "source": [
    "###### dzeta, pojedyncza precyzja, normalna kolejność\n",
    "\n",
    "[1.6251329, 1.634984, 1.6399467, 1.642936, 1.6439348]\n",
    "[1.1093994, 1.1094086, 1.1094086, 1.1094086, 1.1094086]\n",
    "[1.0369275, 1.0369275, 1.0369275, 1.0369275, 1.0369275]\n",
    "[1.0072277, 1.0072277, 1.0072277, 1.0072277, 1.0072277]\n",
    "[1.0009946, 1.0009946, 1.0009946, 1.0009946, 1.0009946]\n",
    "\n",
    "###### dzeta, pojedyncza precyzja, odwrotna kolejność\n",
    "\n",
    "[1.6251327, 1.6349839, 1.6399465, 1.642936, 1.6439345]\n",
    "[1.1093998, 1.1094089, 1.1094103, 1.1094105, 1.1094105]\n",
    "[1.0369277, 1.0369277, 1.0369277, 1.0369277, 1.0369277]\n",
    "[1.0072277, 1.0072277, 1.0072277, 1.0072277, 1.0072277]\n",
    "[1.0009946, 1.0009946, 1.0009946, 1.0009946, 1.0009946]\n",
    "\n",
    "###### dzeta, podwójna precyzja, normalna kolejność\n",
    "\n",
    "[1.625132733621529, 1.6349839001848923, 1.6399465460149971, 1.642936065514894, 1.6439345666815615]\n",
    "[1.1093997551541945, 1.1094087973421474, 1.1094102423332313, 1.1094104908440712, 1.1094105108423578]\n",
    "[1.036927716716712, 1.0369277526929555, 1.0369277549886775, 1.0369277551393863, 1.0369277551431222]\n",
    "[1.0072276664762816, 1.007227666480654, 1.0072276664807145, 1.0072276664807145, 1.0072276664807145]\n",
    "[1.0009945751278182, 1.0009945751278182, 1.0009945751278182, 1.0009945751278182, 1.0009945751278182]\n",
    "\n",
    "###### dzeta, podwójna precyzja, odwrotna kolejność\n",
    "\n",
    "[1.6251327336215293, 1.634983900184893, 1.6399465460149973, 1.6429360655148941, 1.6439345666815597]\n",
    "[1.1093997551541943, 1.1094087973421476, 1.109410242333231, 1.1094104908440725, 1.1094105108423593]\n",
    "[1.0369277167167108, 1.0369277526929532, 1.036927754988676, 1.0369277551393858, 1.0369277551431204]\n",
    "[1.0072276664762823, 1.007227666480655, 1.0072276664807163, 1.0072276664807172, 1.0072276664807172]\n",
    "[1.000994575127818, 1.000994575127818, 1.000994575127818, 1.000994575127818, 1.000994575127818]"
   ]
  },
  {
   "cell_type": "markdown",
   "metadata": {},
   "source": [
    "###### eta, pojedyncza precyzja, normalna kolejność\n",
    "\n",
    "[0.822271, 0.8224175, 0.8224547, 0.82246536, 0.82246685]\n",
    "[0.9346931, 0.9346933, 0.9346933, 0.9346933, 0.9346933]\n",
    "[0.9721198, 0.9721198, 0.9721198, 0.9721198, 0.9721198]\n",
    "[0.99352705, 0.99352705, 0.99352705, 0.99352705, 0.99352705]\n",
    "[0.99903953, 0.99903953, 0.99903953, 0.99903953, 0.99903953]\n",
    "\n",
    "###### eta, pojedyncza precyzja, odwrotna kolejność\n",
    "\n",
    "[-0.25, -0.25, -0.25, -0.25, -0.25]\n",
    "[-0.0787432524467266, -0.0787432524467266, -0.0787432524467266, -0.0787432524467266, -0.0787432524467266]\n",
    "[-0.03125, -0.03125, -0.03125, -0.03125, -0.03125]\n",
    "[-0.0068011771749164045, -0.0068011771749164045, -0.0068011771749164045, -0.0068011771749164045, -0.0068011771749164045]\n",
    "[-0.0009765625, -0.0009765625, -0.0009765625, -0.0009765625, -0.0009765625]\n",
    "\n",
    "###### eta, podwójna precyzja, normalna kolejność\n",
    "\n",
    "[0.8222710318260295, 0.8224175333741286, 0.822454595922551, 0.8224650374240963, 0.8224665339241114]\n",
    "[0.9346930600307106, 0.9346933211400662, 0.9346933421086845, 0.9346933438558745, 0.9346933439141353]\n",
    "[0.9721197689267979, 0.9721197703981592, 0.972119770445367, 0.9721197704468947, 0.9721197704469091]\n",
    "[0.9935270006613486, 0.9935270006616185, 0.9935270006616201, 0.9935270006616201, 0.9935270006616201]\n",
    "[0.9990395075982718, 0.9990395075982718, 0.9990395075982718, 0.9990395075982718, 0.9990395075982718]\n",
    "\n",
    "###### eta, podwójna precyzja, odwrotna kolejność\n",
    "\n",
    "[0.8222710318260289, 0.8224175333741282, 0.8224545959225509, 0.8224650374240972, 0.8224665339241127]\n",
    "[0.934693060030711, 0.934693321140067, 0.9346933421086852, 0.934693343855875, 0.9346933439141354]\n",
    "[0.9721197689267976, 0.9721197703981589, 0.9721197704453663, 0.9721197704468933, 0.9721197704469088]\n",
    "[0.9935270006613481, 0.9935270006616179, 0.9935270006616198, 0.9935270006616198, 0.9935270006616198]\n",
    "[0.9990395075982715, 0.9990395075982715, 0.9990395075982715, 0.9990395075982715, 0.9990395075982715]"
   ]
  },
  {
   "cell_type": "markdown",
   "metadata": {},
   "source": [
    "###### Powyższe wyniki wskazują, na różnicę w precyzji sumowania ciągów w zależności czy zaczynamy od najmniejszego elementu, czy od największego (wartość absolutna). Po porównaniu wyników dla pojedynczej precyzji do wyników dla podwójnej precyzji możemy wywnieskować, żę gdy zaczynamy sumowanie od liczb największych (wariant \"normalny\"/rosnący indeks), precyzja wydaje się być mniejsza w porównaniu, gdy robimy to z odwrotną kolejnością. To gubienie precyzji (znaczących wartości po przecinku), w ekstremalnych warunkach (odwrotne sumowanie liczb pojedynczej precyzji dla ety) może spowodować, że otrzymane warunki będą miały kompletnie inny znak."
   ]
  },
  {
   "cell_type": "markdown",
   "metadata": {},
   "source": [
    "##### fl(fl(x + y) + z) = (**)\n",
    "##### fl(x + y) = (x + y)(1 + e1) [e1 <- błąd reprezentacji]\n",
    "##### fl( fl(x + y) + z) = (fl(x + y) + z)(1 + e2) [e2 <- błąd reprezentacji]\n",
    "##### (**) = ((x + y)(1 + e1) + z)(1 + e2) = (x + y + z + (x + y)(e1))(1 + e2) =\n",
    "##### = (x + y + z) (1 + ((x + y)/(x + y + z))(e1)(1 + e2) + e2)     {1*}\n",
    "##### wyliczjac nastepnie fl(fl( x + y) + z) = (x + y + z) (1 + e3) [e3 <- błąd reprezentacji] {2*}\n",
    "##### można wyliczyć, że e3 = ( (x + y)/(x + y + z) ) (e1) + e2 z {1*} i {2*}\n",
    "##### analogicznie mozna wyliczyc to dla fl(x + fl(y + z)) = (x + y + z)(1 + e4) [e4 <- błąd]\n",
    "##### otrzymujemy wówczas e4 = ( (y + z)/(x + y + z) )(e1) + e2\n",
    "##### błąd więc zależy od wielkości (x + y) i (y + z)\n",
    "##### jesli |x + y| < |y + z| => możemys stwierdzić, że sumowanie powiniśmy rozpocząć od (x + y)"
   ]
  },
  {
   "cell_type": "code",
   "execution_count": null,
   "metadata": {},
   "outputs": [],
   "source": []
  }
 ],
 "metadata": {
  "kernelspec": {
   "display_name": "Python 3",
   "language": "python",
   "name": "python3"
  },
  "language_info": {
   "codemirror_mode": {
    "name": "ipython",
    "version": 3
   },
   "file_extension": ".py",
   "mimetype": "text/x-python",
   "name": "python",
   "nbconvert_exporter": "python",
   "pygments_lexer": "ipython3",
   "version": "3.8.5"
  }
 },
 "nbformat": 4,
 "nbformat_minor": 4
}
