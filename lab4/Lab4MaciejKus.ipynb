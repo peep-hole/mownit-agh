{
 "cells": [
  {
   "cell_type": "markdown",
   "id": "violent-difference",
   "metadata": {},
   "source": [
    "## Functions"
   ]
  },
  {
   "cell_type": "code",
   "execution_count": 5,
   "id": "attended-massachusetts",
   "metadata": {},
   "outputs": [],
   "source": [
    "def f1(x):\n",
    "    e = np.e\n",
    "    ln = np.log\n",
    "    return ((ln(x)**2))*(e**((-1)*x**2))\n",
    "\n",
    "def f2(x):\n",
    "    return 1 / (x**3 - 2*x - 5)\n",
    "\n",
    "def f3(x):\n",
    "    e = np.e\n",
    "    sin = np.sin\n",
    "    return (x**5) * e**((-1)*x) * sin(x)\n",
    "\n",
    "def f4(x, y):\n",
    "    if x < 0 or x > 1 or y < 0 or y > 1 - x:\n",
    "        return 0\n",
    "    p1 = np.sqrt(x + y)\n",
    "    p2 = 1 + x + y\n",
    "    return 1 / (p1*p2)\n",
    "\n",
    "def f5(x, y):\n",
    "    if x < -3 or x > 3 or y < -5 or y > 5:\n",
    "        return 0\n",
    "    return x**2 + y**2\n",
    "    "
   ]
  },
  {
   "cell_type": "markdown",
   "id": "modified-pepper",
   "metadata": {},
   "source": [
    "## Zad 1"
   ]
  },
  {
   "cell_type": "code",
   "execution_count": 6,
   "id": "cognitive-japanese",
   "metadata": {},
   "outputs": [],
   "source": [
    "import numpy as np\n",
    "import scipy\n",
    "import matplotlib.pyplot as plt\n",
    "from scipy.interpolate import interp1d\n",
    "from scipy.integrate import dblquad"
   ]
  },
  {
   "cell_type": "code",
   "execution_count": 3,
   "id": "passive-brazilian",
   "metadata": {},
   "outputs": [
    {
     "name": "stdout",
     "output_type": "stream",
     "text": [
      "0.0005290426934121151\n"
     ]
    }
   ],
   "source": [
    "time = [0.1, 0.2, 0.3, 0.4, 0.5, 0.6, 0.7, 0.8, 0.9, 1.0, 1.1, 1.2, 1.3, 1.4, 1.5, 1.6, 1.7, 1.8, 1.9 , 2.0]\n",
    "velocity = [f3(t) for t in time]\n",
    "\n",
    "def trap_method(x, y):\n",
    "    y = [(v / 3600.0) for v in y]\n",
    "    return np.trapz(y, x)\n",
    "\n",
    "print(trap_method(time, velocity))"
   ]
  },
  {
   "cell_type": "markdown",
   "id": "alive-death",
   "metadata": {},
   "source": [
    "## Zad 2"
   ]
  },
  {
   "cell_type": "code",
   "execution_count": 11,
   "id": "interim-charger",
   "metadata": {},
   "outputs": [
    {
     "name": "stdout",
     "output_type": "stream",
     "text": [
      "0.0004357599381563912\n",
      "0.0005290426934121151\n"
     ]
    }
   ],
   "source": [
    "def chunks(l, n):\n",
    "    n = max(1, n)\n",
    "    return [l[i:i+n] for i in range(0, len(l), n)]\n",
    "\n",
    "def simpson(x, y):\n",
    "    \n",
    "    y = [(v / 3600.0) for v in y]\n",
    "    chunk_size = len(x)//5\n",
    "    xs = chunks(x, chunk_size)\n",
    "    ys = chunks(y, chunk_size)\n",
    "    result = 0\n",
    "    for i,chunk in enumerate(xs):\n",
    "        f = interp1d(chunk, ys[i], kind=2)\n",
    "        a = chunk[0]\n",
    "        b = chunk[-1]\n",
    "        result += simps_count(f, a, b)\n",
    "    return result\n",
    "    \n",
    "def simps_count(f,a,b):\n",
    "\n",
    "    N = 50\n",
    "    delta_x = (b-a)/N\n",
    "    x = np.linspace(a,b,N+1)\n",
    "    y = f(x)\n",
    "    return delta_x/3 * np.sum(y[0:-1:2] + 4*y[1::2] + y[2::2])\n",
    "\n",
    "\n",
    "print(simpson(time, velocity))\n",
    "print(trap_method(time, velocity))\n",
    "\n",
    "   \n",
    "# Obie funkcje zwracają zbliżone wyniki"
   ]
  },
  {
   "cell_type": "markdown",
   "id": "recreational-technician",
   "metadata": {},
   "source": [
    "## Zad 3"
   ]
  },
  {
   "cell_type": "code",
   "execution_count": 9,
   "id": "overall-insulation",
   "metadata": {},
   "outputs": [
    {
     "name": "stdout",
     "output_type": "stream",
     "text": [
      "0.3134774491251805\n"
     ]
    }
   ],
   "source": [
    "res = dblquad(f4, 0.1, 2.0, 0, 1)\n",
    "print(res[0])\n",
    "\n",
    "\n",
    "\n",
    "def trap_2d(f, a, b, ay, by, grid_size):\n",
    "    "
   ]
  },
  {
   "cell_type": "code",
   "execution_count": null,
   "id": "minor-bristol",
   "metadata": {},
   "outputs": [],
   "source": []
  }
 ],
 "metadata": {
  "kernelspec": {
   "display_name": "Python 3",
   "language": "python",
   "name": "python3"
  },
  "language_info": {
   "codemirror_mode": {
    "name": "ipython",
    "version": 3
   },
   "file_extension": ".py",
   "mimetype": "text/x-python",
   "name": "python",
   "nbconvert_exporter": "python",
   "pygments_lexer": "ipython3",
   "version": "3.8.5"
  }
 },
 "nbformat": 4,
 "nbformat_minor": 5
}
