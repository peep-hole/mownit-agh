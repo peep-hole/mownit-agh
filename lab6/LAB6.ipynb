{
 "cells": [
  {
   "cell_type": "code",
   "execution_count": 1,
   "id": "expected-provider",
   "metadata": {},
   "outputs": [],
   "source": [
    "import numpy as np\n",
    "import mpmath as mpm\n",
    "import matplotlib.pyplot as plt\n",
    "#sprawdzamy znak signum"
   ]
  },
  {
   "cell_type": "code",
   "execution_count": 2,
   "id": "protecting-model",
   "metadata": {},
   "outputs": [
    {
     "data": {
      "text/plain": [
       "[<matplotlib.lines.Line2D at 0x7f32b18d2b20>]"
      ]
     },
     "execution_count": 2,
     "metadata": {},
     "output_type": "execute_result"
    },
    {
     "data": {
      "image/png": "[encoded data removed]",
      "text/plain": [
       "<Figure size 432x288 with 1 Axes>"
      ]
     },
     "metadata": {
      "needs_background": "light"
     },
     "output_type": "display_data"
    }
   ],
   "source": [
    "num = mpm.mpf\n",
    "def t1(x):\n",
    "    return num(mpm.cos(x)*mpm.cosh(x) - 1)\n",
    "\n",
    "x1 = [i/1000 for i in range(3000, 7000)]\n",
    "y1 = [t1(i) for i in x1]\n",
    "\n",
    "plt.plot(x1, y1)\n",
    "\n"
   ]
  },
  {
   "cell_type": "code",
   "execution_count": 3,
   "id": "interracial-standing",
   "metadata": {},
   "outputs": [
    {
     "data": {
      "text/plain": [
       "[<matplotlib.lines.Line2D at 0x7f32b16523d0>]"
      ]
     },
     "execution_count": 3,
     "metadata": {},
     "output_type": "execute_result"
    },
    {
     "data": {
      "image/png": "[encoded data removed]",
      "text/plain": [
       "<Figure size 432x288 with 1 Axes>"
      ]
     },
     "metadata": {
      "needs_background": "light"
     },
     "output_type": "display_data"
    }
   ],
   "source": [
    "def t2(x):\n",
    "    return num(1/x - mpm.tan(x))\n",
    "               \n",
    "x1 = [i/1000 for i in range(1, 7000)]\n",
    "y1 = [t2(i) for i in x1]\n",
    "\n",
    "plt.plot(x1, y1)"
   ]
  },
  {
   "cell_type": "code",
   "execution_count": 4,
   "id": "competitive-council",
   "metadata": {},
   "outputs": [
    {
     "data": {
      "text/plain": [
       "[<matplotlib.lines.Line2D at 0x7f32b15f5eb0>]"
      ]
     },
     "execution_count": 4,
     "metadata": {},
     "output_type": "execute_result"
    },
    {
     "data": {
      "image/png": "[encoded data removed]",
      "text/plain": [
       "<Figure size 432x288 with 1 Axes>"
      ]
     },
     "metadata": {
      "needs_background": "light"
     },
     "output_type": "display_data"
    }
   ],
   "source": [
    "def t3(x):\n",
    "    return num(2**(-x) + mpm.e**x + 2 * mpm.cos(x) - 6)\n",
    "               \n",
    "x1 = [i/1000 for i in range(1000, 3000)]\n",
    "y1 = [t3(i) for i in x1]\n",
    "\n",
    "plt.plot(x1, y1)"
   ]
  },
  {
   "cell_type": "code",
   "execution_count": 5,
   "id": "anticipated-aaron",
   "metadata": {},
   "outputs": [],
   "source": [
    "mpm.mp.prec = 100\n",
    "MAX_STEPS = 100000\n",
    "num = mpm.mpf\n",
    "a1 = num((3/2)*np.pi)\n",
    "b1 = num(2*np.pi)\n",
    "a2 = num(10**(-50))\n",
    "b2 = num (np.pi / 2)\n",
    "a3 = 1\n",
    "b3 = 3\n",
    "epsilon = num(10**(-7))\n",
    "\n",
    "def bisection(f, a, b, M, epsilon):\n",
    "    u = num(f(a))\n",
    "    v = num(f(b))\n",
    "    e = num(b - a)\n",
    "    c = 0\n",
    "    if mpm.sign(u) == mpm.sign(v):\n",
    "        return a + e, 0\n",
    "    \n",
    "    for i in range(1, M + 1):\n",
    "        e = num(e/2)\n",
    "        c = num(a + e)\n",
    "        w = num(f(c))\n",
    "        if abs(w) < epsilon:\n",
    "            return c, i\n",
    "        if mpm.sign(w) != mpm.sign(u):\n",
    "            b = c\n",
    "            v = w\n",
    "        else:\n",
    "            a = c\n",
    "            u = w\n",
    "    return c, M"
   ]
  },
  {
   "cell_type": "code",
   "execution_count": 6,
   "id": "sporting-arrow",
   "metadata": {},
   "outputs": [
    {
     "name": "stdout",
     "output_type": "stream",
     "text": [
      "29\n",
      "0.000000063262835437338871312023773131\n"
     ]
    }
   ],
   "source": [
    "epsilon = num(10**(-7))\n",
    "res = bisection(t1, a1, b1, MAX_STEPS, epsilon)\n",
    "print(res[1])\n",
    "print(t1(res[0]))"
   ]
  },
  {
   "cell_type": "code",
   "execution_count": 7,
   "id": "atomic-working",
   "metadata": {},
   "outputs": [
    {
     "name": "stdout",
     "output_type": "stream",
     "text": [
      "55\n",
      "-8.9665822570949379095408972886e-16\n"
     ]
    }
   ],
   "source": [
    "epsilon = num(10**(-15))\n",
    "res = bisection(t1, a1, b1, MAX_STEPS, epsilon)\n",
    "print(res[1])\n",
    "print(t1(res[0]))"
   ]
  },
  {
   "cell_type": "code",
   "execution_count": 8,
   "id": "greenhouse-marketing",
   "metadata": {},
   "outputs": [
    {
     "name": "stdout",
     "output_type": "stream",
     "text": [
      "25\n",
      "-0.000000049469781030904686870609032189\n"
     ]
    }
   ],
   "source": [
    "epsilon = num(10**(-7))\n",
    "res = bisection(t2, a2, b2, MAX_STEPS, epsilon)\n",
    "print(res[1])\n",
    "print(t2(res[0]))"
   ]
  },
  {
   "cell_type": "code",
   "execution_count": 9,
   "id": "extensive-platform",
   "metadata": {},
   "outputs": [
    {
     "name": "stdout",
     "output_type": "stream",
     "text": [
      "51\n",
      "9.3991141192565094908351513917e-16\n"
     ]
    }
   ],
   "source": [
    "epsilon = num(10**(-15))\n",
    "res = bisection(t2, a2, b2, MAX_STEPS, epsilon)\n",
    "print(res[1])\n",
    "print(t2(res[0]))"
   ]
  },
  {
   "cell_type": "code",
   "execution_count": 10,
   "id": "solar-software",
   "metadata": {},
   "outputs": [
    {
     "name": "stdout",
     "output_type": "stream",
     "text": [
      "97\n",
      "0.0\n"
     ]
    }
   ],
   "source": [
    "epsilon = num(10**(-31))\n",
    "res = bisection(t2, a2, b2, MAX_STEPS, epsilon)\n",
    "print(res[1])\n",
    "print(t2(res[0]))"
   ]
  },
  {
   "cell_type": "code",
   "execution_count": 11,
   "id": "informal-explosion",
   "metadata": {},
   "outputs": [
    {
     "name": "stdout",
     "output_type": "stream",
     "text": [
      "23\n",
      "0.000000039970052357133730006589731902\n"
     ]
    }
   ],
   "source": [
    "epsilon = num(10**(-7))\n",
    "res = bisection(t3, a3, b3, MAX_STEPS, epsilon)\n",
    "print(res[1])\n",
    "print(t3(res[0]))"
   ]
  },
  {
   "cell_type": "code",
   "execution_count": 12,
   "id": "green-american",
   "metadata": {},
   "outputs": [
    {
     "name": "stdout",
     "output_type": "stream",
     "text": [
      "52\n",
      "6.2064275738289957417228158576e-16\n"
     ]
    }
   ],
   "source": [
    "epsilon = num(10**(-15))\n",
    "res = bisection(t3, a3, b3, MAX_STEPS, epsilon)\n",
    "print(res[1])\n",
    "print(t3(res[0]))"
   ]
  },
  {
   "cell_type": "code",
   "execution_count": 13,
   "id": "finite-framework",
   "metadata": {},
   "outputs": [
    {
     "name": "stdout",
     "output_type": "stream",
     "text": [
      "100\n",
      "0.0\n"
     ]
    }
   ],
   "source": [
    "epsilon = num(10**(-31))\n",
    "res = bisection(t3, a3, b3, MAX_STEPS, epsilon)\n",
    "print(res[1])\n",
    "print(t3(res[0]))"
   ]
  },
  {
   "cell_type": "code",
   "execution_count": 14,
   "id": "architectural-northeast",
   "metadata": {},
   "outputs": [],
   "source": [
    "def d_t1(x):\n",
    "    return num(np.cos(x)*np.sinh(x) - np.sin(x)*np.cosh(x))\n",
    "\n",
    "def d_t2(x):\n",
    "    return num(-(1/x**2) - 1/(np.cos(x)**2))\n",
    "\n",
    "def d_t3(x):\n",
    "    return num(np.e**x - np.log(2)*2**(-x) - 2*np.sin(x))\n",
    "\n"
   ]
  },
  {
   "cell_type": "code",
   "execution_count": null,
   "id": "infinite-bulgarian",
   "metadata": {},
   "outputs": [],
   "source": [
    "# def newton(f, f_d, x, M, epsilon):\n",
    "#     v = num(f(x))\n",
    "#     if abs(v) < epsilon:\n",
    "#         return v, 0\n",
    "#     for i in range(1, M + 1):\n",
    "#         x1 = x - v/f_d(x)\n",
    "#         v = f(x1)\n",
    "        \n",
    "    "
   ]
  }
 ],
 "metadata": {
  "kernelspec": {
   "display_name": "Python 3",
   "language": "python",
   "name": "python3"
  },
  "language_info": {
   "codemirror_mode": {
    "name": "ipython",
    "version": 3
   },
   "file_extension": ".py",
   "mimetype": "text/x-python",
   "name": "python",
   "nbconvert_exporter": "python",
   "pygments_lexer": "ipython3",
   "version": "3.8.5"
  }
 },
 "nbformat": 4,
 "nbformat_minor": 5
}
